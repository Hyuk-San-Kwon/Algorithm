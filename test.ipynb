{
 "cells": [
  {
   "cell_type": "code",
   "execution_count": 26,
   "metadata": {},
   "outputs": [
    {
     "name": "stdout",
     "output_type": "stream",
     "text": [
      "True\n"
     ]
    }
   ],
   "source": [
    "temp = 3.0\n",
    "\n",
    "print(temp == 3)      "
   ]
  },
  {
   "cell_type": "code",
   "execution_count": 1,
   "metadata": {},
   "outputs": [],
   "source": [
    "a= [1000,1,]"
   ]
  },
  {
   "cell_type": "code",
   "execution_count": 2,
   "metadata": {},
   "outputs": [
    {
     "data": {
      "text/plain": [
       "3"
      ]
     },
     "execution_count": 2,
     "metadata": {},
     "output_type": "execute_result"
    }
   ],
   "source": [
    "a.index(min(a))"
   ]
  },
  {
   "cell_type": "code",
   "execution_count": 7,
   "metadata": {},
   "outputs": [
    {
     "ename": "ValueError",
     "evalue": "not enough values to unpack (expected 3, got 0)",
     "output_type": "error",
     "traceback": [
      "\u001b[1;31m---------------------------------------------------------------------------\u001b[0m",
      "\u001b[1;31mValueError\u001b[0m                                Traceback (most recent call last)",
      "\u001b[1;32mc:\\Users\\khs\\Documents\\코딩테스트\\Algorithm\\test.ipynb 셀 4\u001b[0m in \u001b[0;36m<cell line: 1>\u001b[1;34m()\u001b[0m\n\u001b[1;32m----> <a href='vscode-notebook-cell:/c%3A/Users/khs/Documents/%EC%BD%94%EB%94%A9%ED%85%8C%EC%8A%A4%ED%8A%B8/Algorithm/test.ipynb#W3sZmlsZQ%3D%3D?line=0'>1</a>\u001b[0m r, c, k \u001b[39m=\u001b[39m \u001b[39mmap\u001b[39m(\u001b[39mint\u001b[39m, \u001b[39minput\u001b[39m()\u001b[39m.\u001b[39msplit())  \u001b[39m# A[r+][c+]\u001b[39;00m\n\u001b[0;32m      <a href='vscode-notebook-cell:/c%3A/Users/khs/Documents/%EC%BD%94%EB%94%A9%ED%85%8C%EC%8A%A4%ED%8A%B8/Algorithm/test.ipynb#W3sZmlsZQ%3D%3D?line=1'>2</a>\u001b[0m r \u001b[39m=\u001b[39m r \u001b[39m-\u001b[39m \u001b[39m1\u001b[39m\n\u001b[0;32m      <a href='vscode-notebook-cell:/c%3A/Users/khs/Documents/%EC%BD%94%EB%94%A9%ED%85%8C%EC%8A%A4%ED%8A%B8/Algorithm/test.ipynb#W3sZmlsZQ%3D%3D?line=2'>3</a>\u001b[0m c \u001b[39m=\u001b[39m c \u001b[39m-\u001b[39m \u001b[39m1\u001b[39m\n",
      "\u001b[1;31mValueError\u001b[0m: not enough values to unpack (expected 3, got 0)"
     ]
    }
   ],
   "source": [
    "#r, c, k = map(int, input().split())  # A[r+][c+]\n",
    "#r = r - 1\n",
    "#c = c - 1\n",
    "\n",
    "time = 0\n",
    "graph = [[0 for _ in range(6)] for _ in range(100)]\n",
    " # 숫자가 행열안에 몇개 있는지 count\n",
    "\n",
    "for i in range(3):\n",
    "    a, b, c = map(int, input().split())\n",
    "    graph[i][0], graph[i][1], graph[i][2] = a, b, c\n",
    "    \n",
    "def R_change():\n",
    "    \n",
    "    \n",
    "    length = 0\n",
    "    while True:\n",
    "        if graph[length][0] != 0:\n",
    "            length += 1\n",
    "        else:\n",
    "            break\n",
    "    \n",
    "    for i in range(length):\n",
    "        max_count = 0\n",
    "        count = [1000 for _ in range(101)]\n",
    "        for j in range(100):\n",
    "            if graph[i][j] != 0:\n",
    "                count[graph[i][j]] += 1\n",
    "                max_count = max(max_count, graph[i][j])\n",
    "            elif graph[i][j] == 0:\n",
    "                break\n",
    "        for j in range(1, 101):\n",
    "            min_num = min(count)\n",
    "            if min_num == 1000:\n",
    "                break\n",
    "            small_num_pos = count.index(min_num)\n",
    "            graph[i][2*j-2], graph[i][2*j - 1] = small_num_pos, min_num\n",
    "            del count[small_num_pos]\n",
    "            \n",
    "    "
   ]
  },
  {
   "cell_type": "code",
   "execution_count": null,
   "metadata": {},
   "outputs": [],
   "source": []
  }
 ],
 "metadata": {
  "kernelspec": {
   "display_name": "base",
   "language": "python",
   "name": "python3"
  },
  "language_info": {
   "codemirror_mode": {
    "name": "ipython",
    "version": 3
   },
   "file_extension": ".py",
   "mimetype": "text/x-python",
   "name": "python",
   "nbconvert_exporter": "python",
   "pygments_lexer": "ipython3",
   "version": "3.9.12"
  },
  "orig_nbformat": 4,
  "vscode": {
   "interpreter": {
    "hash": "4a3363cd0039c7ec8088ab5d633488a7d4e26211257d1c2fbbad7f34384655c8"
   }
  }
 },
 "nbformat": 4,
 "nbformat_minor": 2
}
